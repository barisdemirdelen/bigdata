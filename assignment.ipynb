{
 "cells": [
  {
   "cell_type": "markdown",
   "metadata": {},
   "source": [
    "# Example"
   ]
  },
  {
   "cell_type": "markdown",
   "metadata": {},
   "source": [
    "Below I give a simple example to get you started with Pandas."
   ]
  },
  {
   "cell_type": "code",
   "execution_count": 1,
   "metadata": {
    "collapsed": true
   },
   "outputs": [],
   "source": [
    "# import convention for pandas\n",
    "import pandas as pd\n",
    "\n",
    "# read in your data\n",
    "df = pd.read_csv('/../../wifi-prepped-data.csv')\n",
    "\n",
    "# execute the cell you're in by pressing Shift + Enter"
   ]
  },
  {
   "cell_type": "code",
   "execution_count": 2,
   "metadata": {
    "collapsed": false
   },
   "outputs": [
    {
     "data": {
      "text/html": [
       "<div>\n",
       "<table border=\"1\" class=\"dataframe\">\n",
       "  <thead>\n",
       "    <tr style=\"text-align: right;\">\n",
       "      <th></th>\n",
       "      <th>sourceMac</th>\n",
       "      <th>typeNr</th>\n",
       "      <th>subTypeNr</th>\n",
       "      <th>seqNr</th>\n",
       "      <th>retryFlag</th>\n",
       "      <th>measurementTimestamp</th>\n",
       "      <th>droneId</th>\n",
       "      <th>signal</th>\n",
       "    </tr>\n",
       "  </thead>\n",
       "  <tbody>\n",
       "    <tr>\n",
       "      <th>0</th>\n",
       "      <td>3c560f25491f3902870e392f58973155c284fa24a736ef...</td>\n",
       "      <td>0</td>\n",
       "      <td>4</td>\n",
       "      <td>12</td>\n",
       "      <td>0</td>\n",
       "      <td>1423136407778</td>\n",
       "      <td>Oscar</td>\n",
       "      <td>-57</td>\n",
       "    </tr>\n",
       "    <tr>\n",
       "      <th>1</th>\n",
       "      <td>3c560f25491f3902870e392f58973155c284fa24a736ef...</td>\n",
       "      <td>0</td>\n",
       "      <td>4</td>\n",
       "      <td>12</td>\n",
       "      <td>0</td>\n",
       "      <td>1423136407779</td>\n",
       "      <td>Hotel</td>\n",
       "      <td>-68</td>\n",
       "    </tr>\n",
       "    <tr>\n",
       "      <th>2</th>\n",
       "      <td>3c560f25491f3902870e392f58973155c284fa24a736ef...</td>\n",
       "      <td>0</td>\n",
       "      <td>4</td>\n",
       "      <td>12</td>\n",
       "      <td>0</td>\n",
       "      <td>1423136407784</td>\n",
       "      <td>Papa</td>\n",
       "      <td>-60</td>\n",
       "    </tr>\n",
       "    <tr>\n",
       "      <th>3</th>\n",
       "      <td>3c560f25491f3902870e392f58973155c284fa24a736ef...</td>\n",
       "      <td>0</td>\n",
       "      <td>4</td>\n",
       "      <td>268</td>\n",
       "      <td>0</td>\n",
       "      <td>1423136407788</td>\n",
       "      <td>Oscar</td>\n",
       "      <td>-59</td>\n",
       "    </tr>\n",
       "    <tr>\n",
       "      <th>4</th>\n",
       "      <td>3c560f25491f3902870e392f58973155c284fa24a736ef...</td>\n",
       "      <td>0</td>\n",
       "      <td>4</td>\n",
       "      <td>12</td>\n",
       "      <td>0</td>\n",
       "      <td>1423136407788</td>\n",
       "      <td>November</td>\n",
       "      <td>-68</td>\n",
       "    </tr>\n",
       "  </tbody>\n",
       "</table>\n",
       "</div>"
      ],
      "text/plain": [
       "                                           sourceMac  typeNr  subTypeNr  \\\n",
       "0  3c560f25491f3902870e392f58973155c284fa24a736ef...       0          4   \n",
       "1  3c560f25491f3902870e392f58973155c284fa24a736ef...       0          4   \n",
       "2  3c560f25491f3902870e392f58973155c284fa24a736ef...       0          4   \n",
       "3  3c560f25491f3902870e392f58973155c284fa24a736ef...       0          4   \n",
       "4  3c560f25491f3902870e392f58973155c284fa24a736ef...       0          4   \n",
       "\n",
       "   seqNr  retryFlag  measurementTimestamp   droneId  signal  \n",
       "0     12          0         1423136407778     Oscar     -57  \n",
       "1     12          0         1423136407779     Hotel     -68  \n",
       "2     12          0         1423136407784      Papa     -60  \n",
       "3    268          0         1423136407788     Oscar     -59  \n",
       "4     12          0         1423136407788  November     -68  "
      ]
     },
     "execution_count": 2,
     "metadata": {},
     "output_type": "execute_result"
    }
   ],
   "source": [
    "# show first 5 rows of the DataFrame\n",
    "df.head()"
   ]
  },
  {
   "cell_type": "code",
   "execution_count": 3,
   "metadata": {
    "collapsed": false
   },
   "outputs": [
    {
     "name": "stdout",
     "output_type": "stream",
     "text": [
      "Alpha 48\n",
      "Hotel 43\n",
      "India 26\n",
      "Kilo 18\n",
      "Lima 22\n",
      "Mike 16\n",
      "November 62\n",
      "Oscar 23\n",
      "Papa 13\n",
      "Quebec 16\n",
      "Romeo 24\n"
     ]
    }
   ],
   "source": [
    "# a very useful pandas facility, to group a DataFrame using one (or more) index values as keys\n",
    "groups = df.groupby(by=['droneId'])\n",
    "\n",
    "# the 'groups' variable is just another object\n",
    "# it produces a sequence of group names together with a chunk of data (the group) \n",
    "# we can iterate over it, and do something with it\n",
    "\n",
    "for keys, group in groups:\n",
    "    # print the group name, and the length of the group\n",
    "    print(keys, len(group))"
   ]
  },
  {
   "cell_type": "code",
   "execution_count": 8,
   "metadata": {
    "collapsed": false
   },
   "outputs": [],
   "source": [
    "%matplotlib inline\n",
    "\n",
    "import numpy as np\n",
    "from scipy.constants import c\n",
    "from scipy.constants import pi\n",
    "from scipy.optimize import minimize\n",
    "from scipy.stats import chi2\n",
    "from matplotlib import pyplot as plt\n",
    "\n",
    "f = 2.4e9\n",
    "np.random.seed(100)"
   ]
  },
  {
   "cell_type": "markdown",
   "metadata": {},
   "source": [
    "Functions"
   ]
  },
  {
   "cell_type": "code",
   "execution_count": 12,
   "metadata": {
    "collapsed": true
   },
   "outputs": [],
   "source": [
    "def get_transmission_power(Pt, r): \n",
    "    Pr = Pt + 20 * np.log10(c / (4 * pi * f * r)) \n",
    "    return Pr\n",
    "\n",
    "def get_transmission_power_coords(Pt, router_pos, wifi_pos):\n",
    "    r = ((router_pos[0] - wifi_pos[0]) ** 2 + (router_pos[1] - wifi_pos[1]) ** 2 + (router_pos[2] - wifi_pos[2]) ** 2) ** 0.5 \n",
    "    return get_transmission_power(Pt, r)\n",
    "\n",
    "\n",
    "def get_distance(Pt, Pr):\n",
    "    r = c / (10 ** ((Pr - Pt) / 20.0) * 4 * pi * f)\n",
    "    return r"
   ]
  },
  {
   "cell_type": "markdown",
   "metadata": {},
   "source": [
    "a)"
   ]
  },
  {
   "cell_type": "code",
   "execution_count": 13,
   "metadata": {
    "collapsed": false
   },
   "outputs": [
    {
     "data": {
      "image/png": "[encoded data removed]",
      "text/plain": [
       "<matplotlib.figure.Figure at 0x7f4fefe30ba8>"
      ]
     },
     "metadata": {},
     "output_type": "display_data"
    }
   ],
   "source": [
    "rs = np.linspace(0.4, 30, 100)\n",
    "plt.plot(rs, get_transmission_power(0, rs))\n",
    "plt.show()"
   ]
  },
  {
   "cell_type": "markdown",
   "metadata": {},
   "source": [
    "b)\n",
    "\n",
    "$ P_r = P_t + 20 \\times ^{10}\\log \\left( \\frac{c}{4\\pi f r} \\right) $\n",
    "\n",
    "$ r = \\frac{c}{4\\pi f} 10^{-\\frac{P_r - P_t}{20}} $"
   ]
  },
  {
   "cell_type": "markdown",
   "metadata": {},
   "source": [
    "c)"
   ]
  },
  {
   "cell_type": "code",
   "execution_count": 24,
   "metadata": {
    "collapsed": false
   },
   "outputs": [
    {
     "name": "stdout",
     "output_type": "stream",
     "text": [
      "Distance between -30 and -31 dBm is 0.038355 m\n",
      "Distance between -60 and -61 dBm is 1.212900 m\n"
     ]
    }
   ],
   "source": [
    "print(\"Distance between -30 and -31 dBm is %f m\" % (get_distance(0, -31) - get_distance(0, -30)))\n",
    "print(\"Distance between -60 and -61 dBm is %f m\" % (get_distance(0, -61) - get_distance(0, -60)))\n"
   ]
  },
  {
   "cell_type": "markdown",
   "metadata": {},
   "source": [
    "d) This is because the signal strength from a point source decays as $r^{-2}$."
   ]
  },
  {
   "cell_type": "markdown",
   "metadata": {},
   "source": [
    "e)\n",
    "\n",
    "<img src=\"exampleA.png\">"
   ]
  },
  {
   "cell_type": "code",
   "execution_count": null,
   "metadata": {
    "collapsed": true
   },
   "outputs": [],
   "source": []
  }
 ],
 "metadata": {
  "anaconda-cloud": {},
  "kernelspec": {
   "display_name": "Python [Root]",
   "language": "python",
   "name": "Python [Root]"
  },
  "language_info": {
   "codemirror_mode": {
    "name": "ipython",
    "version": 3
   },
   "file_extension": ".py",
   "mimetype": "text/x-python",
   "name": "python",
   "nbconvert_exporter": "python",
   "pygments_lexer": "ipython3",
   "version": "3.5.2"
  }
 },
 "nbformat": 4,
 "nbformat_minor": 0
}
