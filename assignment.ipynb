{
 "cells": [
  {
   "cell_type": "code",
   "execution_count": 26,
   "metadata": {
    "collapsed": false
   },
   "outputs": [],
   "source": [
    "%matplotlib inline\n",
    "\n",
    "import numpy as np\n",
    "from matplotlib.patches import Ellipse\n",
    "from scipy.constants import c\n",
    "from scipy.constants import pi\n",
    "from scipy.optimize import minimize\n",
    "from scipy.stats import chi2\n",
    "from matplotlib import pyplot as plt\n",
    "\n",
    "f = 2.4e9\n",
    "np.random.seed(100)"
   ]
  },
  {
   "cell_type": "markdown",
   "metadata": {},
   "source": [
    "Functions"
   ]
  },
  {
   "cell_type": "code",
   "execution_count": 4,
   "metadata": {
    "collapsed": true
   },
   "outputs": [],
   "source": [
    "def get_transmission_power(Pt, r): \n",
    "    Pr = Pt + 20 * np.log10(c / (4 * pi * f * r)) \n",
    "    return Pr\n",
    "\n",
    "def get_transmission_power_coords(Pt, router_pos, wifi_pos):\n",
    "    r = ((router_pos[0] - wifi_pos[0]) ** 2 + (router_pos[1] - wifi_pos[1]) ** 2 + (router_pos[2] - wifi_pos[2]) ** 2) ** 0.5 \n",
    "    return get_transmission_power(Pt, r)\n",
    "\n",
    "def get_distance(Pt, Pr):\n",
    "    r = c / (10 ** ((Pr - Pt) / 20.0) * 4 * pi * f)\n",
    "    return r"
   ]
  },
  {
   "cell_type": "markdown",
   "metadata": {},
   "source": [
    "# 0.2 Signal strength and distance\n",
    "\n",
    "## a)"
   ]
  },
  {
   "cell_type": "code",
   "execution_count": 27,
   "metadata": {
    "collapsed": false
   },
   "outputs": [
    {
     "data": {
      "image/png": "[encoded data removed]",
      "text/plain": [
       "<matplotlib.figure.Figure at 0x7f5c41b6f828>"
      ]
     },
     "metadata": {},
     "output_type": "display_data"
    }
   ],
   "source": [
    "rs = np.linspace(0.4, 30, 100)\n",
    "plt.plot(rs, get_transmission_power(0, rs))\n",
    "plt.show()"
   ]
  },
  {
   "cell_type": "markdown",
   "metadata": {},
   "source": [
    "## b)\n",
    "\n",
    "$ P_r = P_t + 20 \\times ^{10}\\log \\left( \\frac{c}{4\\pi f r} \\right) $\n",
    "\n",
    "$ r = \\frac{c}{4\\pi f} 10^{-\\frac{P_r - P_t}{20}} $"
   ]
  },
  {
   "cell_type": "markdown",
   "metadata": {},
   "source": [
    "## c)"
   ]
  },
  {
   "cell_type": "code",
   "execution_count": 6,
   "metadata": {
    "collapsed": false
   },
   "outputs": [
    {
     "name": "stdout",
     "output_type": "stream",
     "text": [
      "Distance between -30 and -31 dBm is 0.038355 m\n",
      "Distance between -60 and -61 dBm is 1.212900 m\n"
     ]
    }
   ],
   "source": [
    "print(\"Distance between -30 and -31 dBm is %f m\" % (get_distance(0, -31) - get_distance(0, -30)))\n",
    "print(\"Distance between -60 and -61 dBm is %f m\" % (get_distance(0, -61) - get_distance(0, -60)))"
   ]
  },
  {
   "cell_type": "markdown",
   "metadata": {},
   "source": [
    "## d)\n",
    "\n",
    "This is because the signal strength from a point source decays as $r^{-2}$."
   ]
  },
  {
   "cell_type": "markdown",
   "metadata": {},
   "source": [
    "# 0.3 Position reconstruction\n",
    "\n",
    "## e)\n",
    "\n",
    "<img src=\"exampleA.png\">"
   ]
  },
  {
   "cell_type": "markdown",
   "metadata": {
    "collapsed": false
   },
   "source": [
    "## f)\n",
    "\n",
    "$ P_r = P_t + 20 \\times ^{10}\\log\\left( \\frac{c}{4 \\pi f r} \\right)$\n",
    "\n",
    "$ P_r = P_t + 20 \\times ^{10}\\log\\left( \\frac{c}{4 \\pi f} \\right) - 20 \\times ^{10}\\log\\left( r \\right)$\n",
    "\n",
    "$r = ((x - x_i)^2 + (y - y_i)^2 + Z^2)^{\\frac{1}{2}}$\n",
    "\n",
    "$P(x ,y) = P_t + 20 \\times ^{10}\\log \\left( \\frac{c}{4\\pi f}\\right) - \\frac{1}{2} \\times 20 \\times ^{10}\\log ((x - x_i)^2 + (y - y_i)^2 + Z^2)$\n",
    "\n",
    "$P(x ,y) = P_t + 20 \\times ^{10}\\log \\left( \\frac{c}{4\\pi f}\\right) - 10 \\times ^{10}\\log ((x - x_i)^2 + (y - y_i)^2 + Z^2)$"
   ]
  },
  {
   "cell_type": "markdown",
   "metadata": {
    "collapsed": true
   },
   "source": [
    "## g)"
   ]
  },
  {
   "cell_type": "code",
   "execution_count": 7,
   "metadata": {
    "collapsed": false
   },
   "outputs": [
    {
     "name": "stdout",
     "output_type": "stream",
     "text": [
      "Mean is 0.0168 and std is 1.0458\n"
     ]
    },
    {
     "data": {
      "image/png": "[encoded data removed]",
      "text/plain": [
       "<matplotlib.figure.Figure at 0x7f5c448f01d0>"
      ]
     },
     "metadata": {},
     "output_type": "display_data"
    }
   ],
   "source": [
    "Pt = np.zeros(1000)\n",
    "r = 404 ** 0.5 \n",
    "Pr = get_transmission_power(Pt, r) + np.random.randn(1000)\n",
    "\n",
    "normalized_residual = get_transmission_power(Pt, r) - Pr\n",
    "plt.hist(normalized_residual, normed=True)\n",
    "\n",
    "mean = np.mean(normalized_residual)\n",
    "std = np.std(normalized_residual)\n",
    "\n",
    "print(\"Mean is %.4f and std is %.4f\" % (mean, std))"
   ]
  },
  {
   "cell_type": "markdown",
   "metadata": {},
   "source": [
    "## h)"
   ]
  },
  {
   "cell_type": "code",
   "execution_count": 8,
   "metadata": {
    "collapsed": false
   },
   "outputs": [
    {
     "name": "stdout",
     "output_type": "stream",
     "text": [
      "Mean is -0.0177 and std is 2.0129\n",
      "The standard deviation will be too big, or too small respectively.\n"
     ]
    },
    {
     "data": {
      "image/png": "[encoded data removed]",
      "text/plain": [
       "<matplotlib.figure.Figure at 0x7f5c425c13c8>"
      ]
     },
     "metadata": {},
     "output_type": "display_data"
    }
   ],
   "source": [
    "Pt = np.zeros(1000)\n",
    "r = 404 ** 0.5 \n",
    "Pr = get_transmission_power(Pt, r) + np.random.normal(0, 2, 1000)\n",
    "\n",
    "normalized_residual = get_transmission_power(Pt, r) - Pr\n",
    "plt.hist(normalized_residual, normed=True)\n",
    "\n",
    "mean = np.mean(normalized_residual)\n",
    "std = np.std(normalized_residual)\n",
    "\n",
    "print(\"Mean is %.4f and std is %.4f\" % (mean, std))\n",
    "print(\"The standard deviation will be too big, or too small respectively.\")"
   ]
  },
  {
   "cell_type": "markdown",
   "metadata": {},
   "source": [
    "## i)"
   ]
  },
  {
   "cell_type": "code",
   "execution_count": 9,
   "metadata": {
    "collapsed": false
   },
   "outputs": [
    {
     "name": "stdout",
     "output_type": "stream",
     "text": [
      "Mean is 16.9359 and std is 0.9945\n",
      "The mean has shifted.\n"
     ]
    },
    {
     "data": {
      "image/png": "[encoded data removed]",
      "text/plain": [
       "<matplotlib.figure.Figure at 0x7f5c41f59b00>"
      ]
     },
     "metadata": {},
     "output_type": "display_data"
    }
   ],
   "source": [
    "Pt = np.zeros(1000)\n",
    "r = (25 * 25 + 2 * 2) ** 0.5 \n",
    "Pr = Pt + 25 * np.log10(c / (4 * pi * f * r)) + np.random.normal(0, 1, 1000)\n",
    "\n",
    "normalized_residual = get_transmission_power(Pt, r) - Pr\n",
    "plt.hist(normalized_residual, normed=True)\n",
    "\n",
    "mean = np.mean(normalized_residual)\n",
    "std = np.std(normalized_residual)\n",
    "\n",
    "print(\"Mean is %.4f and std is %.4f\" % (mean, std))\n",
    "print(\"The mean has shifted.\")"
   ]
  },
  {
   "cell_type": "markdown",
   "metadata": {},
   "source": [
    "## j)\n",
    "\n",
    "You want to see the mean around 0, indicating no systematic error. And the standard deviation as 1, to indicate that your estimate of it was correct."
   ]
  },
  {
   "cell_type": "markdown",
   "metadata": {},
   "source": [
    "# 0.4 Toy Monte Carlo\n",
    "\n",
    "## k)"
   ]
  },
  {
   "cell_type": "code",
   "execution_count": 28,
   "metadata": {
    "collapsed": false
   },
   "outputs": [
    {
     "data": {
      "image/png": "[encoded data removed]",
      "text/plain": [
       "<matplotlib.figure.Figure at 0x7f5c41b3df60>"
      ]
     },
     "metadata": {},
     "output_type": "display_data"
    }
   ],
   "source": [
    "routers = [(0, 0, 3), (0, 20, 3), (20, 0, 3), (20, 20, 3)]\n",
    "device_position = (5, 5, 1)\n",
    "Pt = 0\n",
    "\n",
    "chi_squareds = []\n",
    "for x in range(-5, 15):\n",
    "    estimated_position = [x, 5, 1]\n",
    "    total = 0\n",
    "    for router in routers:\n",
    "        Si = get_transmission_power_coords(Pt, router, device_position)\n",
    "        Pr = get_transmission_power_coords(Pt, router, estimated_position)\n",
    "        total += (Si - Pr) ** 2\n",
    "    chi_squareds.append(total)\n",
    "\n",
    "plt.plot(np.arange(-5, 15), chi_squareds)\n",
    "plt.show()"
   ]
  },
  {
   "cell_type": "markdown",
   "metadata": {},
   "source": [
    "## l)"
   ]
  },
  {
   "cell_type": "code",
   "execution_count": 11,
   "metadata": {
    "collapsed": false
   },
   "outputs": [
    {
     "data": {
      "image/png": "[encoded data removed]",
      "text/plain": [
       "<matplotlib.figure.Figure at 0x7f5c41eeb828>"
      ]
     },
     "metadata": {},
     "output_type": "display_data"
    }
   ],
   "source": [
    "for i in range(5):\n",
    "    chi_squareds = []\n",
    "    for x in range(-5, 15):\n",
    "        estimated_position = [x, 5, 1]\n",
    "        total = 0\n",
    "        for router in routers:\n",
    "            Si = get_transmission_power_coords(Pt, router, device_position) + np.random.normal(0, 1)\n",
    "            Pr = get_transmission_power_coords(Pt, router, estimated_position)\n",
    "            total += (Si - Pr) ** 2\n",
    "        chi_squareds.append(total)\n",
    "\n",
    "    plt.plot(np.arange(-5, 15), chi_squareds)"
   ]
  },
  {
   "cell_type": "markdown",
   "metadata": {},
   "source": [
    "## m)"
   ]
  },
  {
   "cell_type": "code",
   "execution_count": 12,
   "metadata": {
    "collapsed": false
   },
   "outputs": [
    {
     "name": "stdout",
     "output_type": "stream",
     "text": [
      "Minimum of x is 5.342701, and y is 5.237551\n"
     ]
    }
   ],
   "source": [
    "def get_chi_squared(pos_est):\n",
    "    estimated_position = [pos_est[0], pos_est[1], 1]\n",
    "    total = 0\n",
    "    for i, router in enumerate(routers):\n",
    "        Si = S[i]\n",
    "        Pr = get_transmission_power_coords(Pt, router, estimated_position)\n",
    "        total += (Si - Pr) ** 2\n",
    "    return total\n",
    "\n",
    "\n",
    "S = []\n",
    "for router in routers:\n",
    "    Si = get_transmission_power_coords(Pt, router, device_position) + np.random.normal(0, 1)\n",
    "    S.append(Si)\n",
    "x0 = np.array([10.0, 10.0])\n",
    "# check_grad_result = check_grad(get_chi_squared, get_chi_squared_grad, x0)\n",
    "# print(check_grad_result)\n",
    "result = minimize(get_chi_squared, x0, method=\"L-BFGS-B\", jac=False, options={'maxiter': 1000})\n",
    "print('Minimum of x is %f, and y is %f' % (result['x'][0], result['x'][1]))"
   ]
  },
  {
   "cell_type": "markdown",
   "metadata": {},
   "source": [
    "## n) and o)"
   ]
  },
  {
   "cell_type": "code",
   "execution_count": 13,
   "metadata": {
    "collapsed": false
   },
   "outputs": [
    {
     "name": "stdout",
     "output_type": "stream",
     "text": [
      "Mean of (x,y): (4.86,4.95), mean of chi squared: 1.96\n",
      "So the mean of chi squared agrees with 2 degrees of freedom.\n"
     ]
    },
    {
     "data": {
      "image/png": "[encoded data removed]",
      "text/plain": [
       "<matplotlib.figure.Figure at 0x7f5c41ef45f8>"
      ]
     },
     "metadata": {},
     "output_type": "display_data"
    },
    {
     "data": {
      "image/png": "[encoded data removed]",
      "text/plain": [
       "<matplotlib.figure.Figure at 0x7f5c41fe26a0>"
      ]
     },
     "metadata": {},
     "output_type": "display_data"
    }
   ],
   "source": [
    "positions = []\n",
    "Xs = []\n",
    "for i in range(1000):\n",
    "    S = []\n",
    "    for router in routers:\n",
    "        Si = get_transmission_power_coords(Pt, router, device_position) + np.random.normal(0, 1)\n",
    "        S.append(Si)\n",
    "    x0 = np.array([10.0, 10.0])\n",
    "    # check_grad_result = check_grad(get_chi_squared, get_chi_squared_grad, x0)\n",
    "    # print(check_grad_result)\n",
    "    result = minimize(get_chi_squared, x0, method=\"L-BFGS-B\", jac=False, options={'maxiter': 1000})\n",
    "    positions.append(result.x)\n",
    "    Xs.append(get_chi_squared(result.x))\n",
    "\n",
    "positions = np.array(positions)\n",
    "Xs = np.array(Xs)\n",
    "\n",
    "mean_pos = positions.mean(axis=0)\n",
    "mean_chi_square = Xs.mean()\n",
    "print(\"Mean of (x,y): (%.2f,%.2f), mean of chi squared: %.2f\" % (mean_pos[0], mean_pos[1], mean_chi_square))\n",
    "print(\"So the mean of chi squared agrees with 2 degrees of freedom.\")\n",
    "\n",
    "plt.clf()\n",
    "plt.scatter(positions[:, 0], positions[:, 1])\n",
    "plt.show()\n",
    "plt.clf()\n",
    "plt.hist(Xs, normed=True)\n",
    "plt.show()\n"
   ]
  },
  {
   "cell_type": "markdown",
   "metadata": {},
   "source": [
    "## p)"
   ]
  },
  {
   "cell_type": "code",
   "execution_count": 14,
   "metadata": {
    "collapsed": false,
    "scrolled": true
   },
   "outputs": [
    {
     "data": {
      "image/png": "[encoded data removed]",
      "text/plain": [
       "<matplotlib.figure.Figure at 0x7f5c41fbc390>"
      ]
     },
     "metadata": {},
     "output_type": "display_data"
    }
   ],
   "source": [
    "df = 2\n",
    "plt.plot(chi2.pdf(np.arange(16), df), 'r-', lw=5, alpha=0.6, label='chi2 pdf')\n",
    "plt.hist(Xs, normed=True)\n",
    "plt.show()\n"
   ]
  },
  {
   "cell_type": "markdown",
   "metadata": {},
   "source": [
    "## q)"
   ]
  },
  {
   "cell_type": "code",
   "execution_count": 15,
   "metadata": {
    "collapsed": false
   },
   "outputs": [
    {
     "name": "stdout",
     "output_type": "stream",
     "text": [
      "Mean of (x,y): (4.61,4.36), mean of chi squared: 7.12\n"
     ]
    },
    {
     "data": {
      "image/png": "[encoded data removed]",
      "text/plain": [
       "<matplotlib.figure.Figure at 0x7f5c41ed95f8>"
      ]
     },
     "metadata": {},
     "output_type": "display_data"
    },
    {
     "data": {
      "image/png": "[encoded data removed]",
      "text/plain": [
       "<matplotlib.figure.Figure at 0x7f5c41d7af98>"
      ]
     },
     "metadata": {},
     "output_type": "display_data"
    }
   ],
   "source": [
    "positions = []\n",
    "Xs = []\n",
    "for i in range(1000):\n",
    "    S = []\n",
    "    for router in routers:\n",
    "        Si = get_transmission_power_coords(Pt, router, device_position) + np.random.normal(0, 2)\n",
    "        S.append(Si)\n",
    "    x0 = np.array([10.0, 10.0])\n",
    "    # check_grad_result = check_grad(get_chi_squared, get_chi_squared_grad, x0)\n",
    "    # print(check_grad_result)\n",
    "    result = minimize(get_chi_squared, x0, method=\"L-BFGS-B\", jac=False, options={'maxiter': 1000})\n",
    "    positions.append(result.x)\n",
    "    Xs.append(get_chi_squared(result.x))\n",
    "\n",
    "positions = np.array(positions)\n",
    "Xs = np.array(Xs)\n",
    "\n",
    "mean_pos = positions.mean(axis=0)\n",
    "mean_chi_square = Xs.mean()\n",
    "print(\"Mean of (x,y): (%.2f,%.2f), mean of chi squared: %.2f\" % (mean_pos[0], mean_pos[1], mean_chi_square))\n",
    "\n",
    "plt.clf()\n",
    "plt.scatter(positions[:, 0], positions[:, 1])\n",
    "plt.show()\n",
    "plt.clf()\n",
    "plt.hist(Xs, normed=True)\n",
    "df = 2\n",
    "plt.plot(chi2.pdf(np.arange(16), df), 'r-', lw=5, alpha=0.6, label='chi2 pdf')\n",
    "plt.hist(Xs, normed=True)\n",
    "plt.show()"
   ]
  },
  {
   "cell_type": "markdown",
   "metadata": {},
   "source": [
    "The average of the minized positions is still close to (5, 5), but the spread is much bigger. The chi-squared mean also doesn't equal the 2 degrees of freedom anymore, meaning the histogram doesn't follow the correct chi-squared curve anymore either."
   ]
  },
  {
   "cell_type": "markdown",
   "metadata": {},
   "source": [
    "## r)\n",
    "\n",
    "It means we underestimated the error by a factor 2."
   ]
  },
  {
   "cell_type": "markdown",
   "metadata": {},
   "source": [
    "# 0.5 Error on fit parameters\n",
    "\n",
    "## s)"
   ]
  },
  {
   "cell_type": "markdown",
   "metadata": {},
   "source": [
    "$\\chi^2 = \\sum_i \\frac{S_i^2 - 2S_i P(x_0,y_0) - 2S_i \\frac{\\partial P(x_0,y_0)}{\\partial x}(x-x_0) - 2S_i \\frac{\\partial P(x_0,y_0)}{\\partial y}(y-y_0) + P(x_0, y_0)^2 + 2P(x_0, y_0)\\frac{\\partial P(x_0,y_0)}{\\partial x}(x-x_0) + 2P(x_0, y_0)\\frac{\\partial P(x_0,y_0)}{\\partial y}(y-y_0) + (\\frac{\\partial P(x_0,y_0)}{\\partial x}(x-x_0))^2 + 2 \\frac{\\partial P(x_0,y_0)}{\\partial x}(x-x_0)\\frac{\\partial P(x_0,y_0)}{\\partial y}(y-y_0) + (\\frac{\\partial P(x_0,y_0)}{\\partial x}(x-x_0))^2}{\\sigma_i^2}$"
   ]
  },
  {
   "cell_type": "markdown",
   "metadata": {},
   "source": [
    "## t)\n",
    "\n",
    "$ \\chi^2 = \\sum_i \\frac{S_i^2 - 2S_i P(x_0,y_0) + P(x_0,y_0)^2 + (\\frac{\\partial P(x_0,y_0)}{\\partial x}(x-x_0))^2 + (\\frac{\\partial P(x_0,y_0)}{\\partial y}(y-y_0))^2 + 2 \\frac{\\partial P(x_0,y_0)}{\\partial x}(x-x_0)\\frac{\\partial P(x_0,y_0)}{\\partial y}(y-y_0)}  {\\sigma_i^2}$"
   ]
  },
  {
   "cell_type": "markdown",
   "metadata": {
    "collapsed": true
   },
   "source": [
    "## u)\n",
    "\n",
    "$A = S_i^2 - 2S_i P(x_0,y_0) + P(x_0,y_0)^2 $\n",
    "\n",
    "$B_{11} = \\left(\\frac{\\partial P(x_0,y_0)}{\\partial x}\\right)^2 $\n",
    "$B_{12} = \\frac{\\partial P(x_0,y_0)}{\\partial x}\\frac{\\partial P(x_0,y_0)}{\\partial y} $\n",
    "\n",
    "$B_{21} = \\frac{\\partial P(x_0,y_0)}{\\partial x}\\frac{\\partial P(x_0,y_0)}{\\partial y} $\n",
    "$B_{22} = \\left(\\frac{\\partial P(x_0,y_0)}{\\partial y}\\right)^2 $"
   ]
  },
  {
   "cell_type": "markdown",
   "metadata": {},
   "source": [
    "## v)\n",
    "\n",
    "We have to solve the equation\n",
    "\n",
    "$ \\chi^2(0, \\Delta y) + 1 = \\chi^2(\\Delta x, \\Delta y)$.\n",
    "\n",
    "Which we solve for $\\Delta x$ to find how much it has to change for $\\chi^2$ to change by 1. The value of $\\Delta x$ will be maximum when $\\Delta y = 0$. Solving this results in:\n",
    "\n",
    "$ \\Delta x^2 = \\left( \\frac{\\partial P}{\\partial x} \\right)^{-2}$\n",
    "\n",
    "Likewise for $\\Delta y$:\n",
    "\n",
    "$\\Delta y^2 = \\left( \\frac{\\partial P}{\\partial y} \\right)^{-2}$"
   ]
  },
  {
   "cell_type": "markdown",
   "metadata": {},
   "source": [
    "## w)"
   ]
  },
  {
   "cell_type": "code",
   "execution_count": 20,
   "metadata": {
    "collapsed": false
   },
   "outputs": [
    {
     "name": "stdout",
     "output_type": "stream",
     "text": [
      "Estimate (x,y): (4.65,5.63), chi squared: 0.18\n",
      "Variance is (0.8573, 1.1284)\n",
      "Standard deviation is (0.9259, 1.0623)\n"
     ]
    },
    {
     "data": {
      "image/png": "[encoded data removed]",
      "text/plain": [
       "<matplotlib.figure.Figure at 0x7f5c41c44588>"
      ]
     },
     "metadata": {},
     "output_type": "display_data"
    }
   ],
   "source": [
    "S = []\n",
    "for router in routers:\n",
    "    Si = get_transmission_power_coords(Pt, router, device_position) + np.random.normal(0, 1)\n",
    "    S.append(Si)\n",
    "x0 = np.array([10.0, 10.0])\n",
    "# check_grad_result = check_grad(get_chi_squared, get_chi_squared_grad, x0)\n",
    "# print(check_grad_result)\n",
    "result = minimize(get_chi_squared, x0, method=\"L-BFGS-B\", jac=False, options={'maxiter': 1000})\n",
    "(x, y) = result.x\n",
    "Xs = (get_chi_squared(result.x))\n",
    "print(\"Estimate (x,y): (%.2f,%.2f), chi squared: %.2f\" % (x, y, Xs))\n",
    "\n",
    "x_variance = 0\n",
    "y_variance = 0\n",
    "for router in routers:\n",
    "    x_variance += (-20.0 * (x - router[0]) / (\n",
    "        np.log(10) * ((x - router[0]) ** 2 + (y - router[1]) ** 2 + (device_position[2] - router[2]) ** 2))) ** 2\n",
    "    y_variance += (-20.0 * (y - router[1]) / (\n",
    "        np.log(10) * ((x - router[0]) ** 2 + (y - router[1]) ** 2 + (device_position[2] - router[2]) ** 2))) ** 2\n",
    "\n",
    "print(\"Variance is (%.4f, %.4f)\" % (x_variance, y_variance))\n",
    "print(\"Standard deviation is (%.4f, %.4f)\" % (x_variance ** 0.5, y_variance ** 0.5))\n",
    "\n",
    "plt.clf()\n",
    "ax = plt.subplot()\n",
    "plt.scatter(device_position[0], device_position[1])\n",
    "plt.scatter(x, y)\n",
    "ell = Ellipse(xy=(x, y),\n",
    "              width=x_variance ** 0.5, height=y_variance ** 0.5,\n",
    "              angle=0, color='red')\n",
    "ell.set_facecolor('none')\n",
    "ax.add_artist(ell)\n",
    "ax.set_xlim(0, 10)\n",
    "ax.set_ylim(0, 10)\n",
    "plt.show()\n"
   ]
  },
  {
   "cell_type": "markdown",
   "metadata": {},
   "source": [
    "## y)"
   ]
  },
  {
   "cell_type": "code",
   "execution_count": 23,
   "metadata": {
    "collapsed": false
   },
   "outputs": [
    {
     "name": "stdout",
     "output_type": "stream",
     "text": [
      "Mean of (x,y): (4.97,4.85), mean of chi squared: 1.97, mean of standard deviations: (1.02, 1.01)\n"
     ]
    },
    {
     "data": {
      "image/png": "[encoded data removed]",
      "text/plain": [
       "<matplotlib.figure.Figure at 0x7f5c41c70cc0>"
      ]
     },
     "metadata": {},
     "output_type": "display_data"
    },
    {
     "data": {
      "image/png": "[encoded data removed]",
      "text/plain": [
       "<matplotlib.figure.Figure at 0x7f5c41e08e80>"
      ]
     },
     "metadata": {},
     "output_type": "display_data"
    },
    {
     "name": "stdout",
     "output_type": "stream",
     "text": [
      "Mean of normalized residuals: 0.0566, standard deviation: 0.4830\n",
      "The standard deviation is lower because we're using multiple routers to estimate the final position. Thus the error of each router gets averaged away.\n"
     ]
    }
   ],
   "source": [
    "positions = []\n",
    "Xs = []\n",
    "variances = []\n",
    "normalized_residuals = []\n",
    "for i in range(1000):\n",
    "    S = []\n",
    "    for router in routers:\n",
    "        Si = get_transmission_power_coords(Pt, router, device_position) + np.random.normal(0, 1)\n",
    "        S.append(Si)\n",
    "    x0 = np.array([10.0, 10.0])\n",
    "    # check_grad_result = check_grad(get_chi_squared, get_chi_squared_grad, x0)\n",
    "    # print(check_grad_result)\n",
    "    result = minimize(get_chi_squared, x0, method=\"L-BFGS-B\", jac=False, options={'maxiter': 1000})\n",
    "    (x, y) = result.x\n",
    "    positions.append(result.x)\n",
    "    Xs.append(get_chi_squared(result.x))\n",
    "    # print(\"Estimate (x,y): (%.2f,%.2f), chi squared: %.2f\" % (x, y, Xs))\n",
    "\n",
    "    x_variance = 0\n",
    "    y_variance = 0\n",
    "    for router in routers:\n",
    "        x_variance += (-20.0 * (x - router[0]) / (\n",
    "            np.log(10) * ((x - router[0]) ** 2 + (y - router[1]) ** 2 + (device_position[2] - router[2]) ** 2))) ** 2\n",
    "        y_variance += (-20.0 * (y - router[1]) / (\n",
    "            np.log(10) * ((x - router[0]) ** 2 + (y - router[1]) ** 2 + (device_position[2] - router[2]) ** 2))) ** 2\n",
    "\n",
    "    variances.append((x_variance, y_variance))\n",
    "\n",
    "    normalized_residual = 0\n",
    "    for i, router in enumerate(routers):\n",
    "        normalized_residual += S[i] - get_transmission_power_coords(Pt, router, (x, y, device_position[2]))\n",
    "    normalized_residual /= len(routers)\n",
    "    normalized_residuals.append(normalized_residual)\n",
    "\n",
    "positions = np.array(positions)\n",
    "Xs = np.array(Xs)\n",
    "variances = np.array(variances)\n",
    "normalized_residuals = np.array(normalized_residuals)\n",
    "\n",
    "mean_pos = positions.mean(axis=0)\n",
    "mean_variance = variances.mean(axis=0)\n",
    "mean_chi_square = Xs.mean()\n",
    "print(\"Mean of (x,y): (%.2f,%.2f), mean of chi squared: %.2f, mean of standard deviations: (%.2f, %.2f)\" % (\n",
    "    mean_pos[0], mean_pos[1], mean_chi_square, mean_variance[0] ** 0.5, mean_variance[1] ** 0.5))\n",
    "\n",
    "plt.clf()\n",
    "ax = plt.subplot()\n",
    "plt.scatter(device_position[0], device_position[1])\n",
    "plt.scatter(mean_pos[0], mean_pos[1])\n",
    "ell = Ellipse(xy=(mean_pos[0], mean_pos[1]),\n",
    "              width=mean_variance[0] ** 0.5, height=mean_variance[1] ** 0.5,\n",
    "              angle=0, color='red')\n",
    "ell.set_facecolor('none')\n",
    "ax.add_artist(ell)\n",
    "ax.set_xlim(0, 10)\n",
    "ax.set_ylim(0, 10)\n",
    "plt.show()\n",
    "\n",
    "plt.clf()\n",
    "plt.hist(normalized_residuals)\n",
    "plt.show()\n",
    "print(\"Mean of normalized residuals: %.4f, standard deviation: %.4f\" % (\n",
    "np.mean(normalized_residuals), np.std(normalized_residuals)))\n",
    "print(\"The standard deviation is lower because we're using multiple \\\n",
    "routers to estimate the final position. Thus the error of each router \\\n",
    "gets averaged away.\")"
   ]
  },
  {
   "cell_type": "markdown",
   "metadata": {},
   "source": [
    "## z)"
   ]
  },
  {
   "cell_type": "code",
   "execution_count": 25,
   "metadata": {
    "collapsed": false
   },
   "outputs": [
    {
     "name": "stdout",
     "output_type": "stream",
     "text": [
      "Mean of (x,y): (4.90,4.92), mean of chi squared: 1.97, mean of standard deviations: (1.01, 1.02)\n"
     ]
    },
    {
     "data": {
      "image/png": "[encoded data removed]",
      "text/plain": [
       "<matplotlib.figure.Figure at 0x7f5c41ceb4e0>"
      ]
     },
     "metadata": {},
     "output_type": "display_data"
    },
    {
     "data": {
      "image/png": "[encoded data removed]",
      "text/plain": [
       "<matplotlib.figure.Figure at 0x7f5c41aafc50>"
      ]
     },
     "metadata": {},
     "output_type": "display_data"
    },
    {
     "name": "stdout",
     "output_type": "stream",
     "text": [
      "Mean of normalized residuals: 0.0172, standard deviation: 0.9483\n",
      "The standard deviation doubles.\n"
     ]
    }
   ],
   "source": [
    "positions = []\n",
    "Xs = []\n",
    "variances = []\n",
    "normalized_residuals = []\n",
    "for i in range(1000):\n",
    "    S = []\n",
    "    for router in routers:\n",
    "        Si = get_transmission_power_coords(Pt, router, device_position) + np.random.normal(0, 1)\n",
    "        S.append(Si)\n",
    "    x0 = np.array([10.0, 10.0])\n",
    "    # check_grad_result = check_grad(get_chi_squared, get_chi_squared_grad, x0)\n",
    "    # print(check_grad_result)\n",
    "    result = minimize(get_chi_squared, x0, method=\"L-BFGS-B\", jac=False, options={'maxiter': 1000})\n",
    "    (x, y) = result.x\n",
    "    positions.append(result.x)\n",
    "    Xs.append(get_chi_squared(result.x))\n",
    "    # print(\"Estimate (x,y): (%.2f,%.2f), chi squared: %.2f\" % (x, y, Xs))\n",
    "\n",
    "    x_variance = 0\n",
    "    y_variance = 0\n",
    "    for router in routers:\n",
    "        x_variance += (-20.0 * (x - router[0]) / (\n",
    "            np.log(10) * ((x - router[0]) ** 2 + (y - router[1]) ** 2 + (device_position[2] - router[2]) ** 2))) ** 2\n",
    "        y_variance += (-20.0 * (y - router[1]) / (\n",
    "            np.log(10) * ((x - router[0]) ** 2 + (y - router[1]) ** 2 + (device_position[2] - router[2]) ** 2))) ** 2\n",
    "\n",
    "    variances.append((x_variance, y_variance))\n",
    "\n",
    "    normalized_residual = 0\n",
    "    for i, router in enumerate(routers):\n",
    "        normalized_residual += S[i] - get_transmission_power_coords(Pt, router, (x, y, device_position[2]))\n",
    "    normalized_residual /= len(routers)\n",
    "    normalized_residuals.append(normalized_residual)\n",
    "\n",
    "positions = np.array(positions)\n",
    "Xs = np.array(Xs)\n",
    "variances = np.array(variances)\n",
    "normalized_residuals = np.array(normalized_residuals) * 2\n",
    "\n",
    "mean_pos = positions.mean(axis=0)\n",
    "mean_variance = variances.mean(axis=0)\n",
    "mean_chi_square = Xs.mean()\n",
    "print(\"Mean of (x,y): (%.2f,%.2f), mean of chi squared: %.2f, mean of standard deviations: (%.2f, %.2f)\" % (\n",
    "    mean_pos[0], mean_pos[1], mean_chi_square, mean_variance[0] ** 0.5, mean_variance[1] ** 0.5))\n",
    "\n",
    "plt.clf()\n",
    "ax = plt.subplot()\n",
    "plt.scatter(device_position[0], device_position[1])\n",
    "plt.scatter(mean_pos[0], mean_pos[1])\n",
    "ell = Ellipse(xy=(mean_pos[0], mean_pos[1]),\n",
    "              width=mean_variance[0] ** 0.5, height=mean_variance[1] ** 0.5,\n",
    "              angle=0, color='red')\n",
    "ell.set_facecolor('none')\n",
    "ax.add_artist(ell)\n",
    "ax.set_xlim(0, 10)\n",
    "ax.set_ylim(0, 10)\n",
    "plt.show()\n",
    "\n",
    "plt.clf()\n",
    "plt.hist(normalized_residuals)\n",
    "plt.show()\n",
    "print(\"Mean of normalized residuals: %.4f, standard deviation: %.4f\" % (\n",
    "    np.mean(normalized_residuals), np.std(normalized_residuals)))\n",
    "print(\"The standard deviation doubles.\")"
   ]
  },
  {
   "cell_type": "code",
   "execution_count": null,
   "metadata": {
    "collapsed": true
   },
   "outputs": [],
   "source": []
  }
 ],
 "metadata": {
  "anaconda-cloud": {},
  "kernelspec": {
   "display_name": "Python [Root]",
   "language": "python",
   "name": "Python [Root]"
  },
  "language_info": {
   "codemirror_mode": {
    "name": "ipython",
    "version": 3
   },
   "file_extension": ".py",
   "mimetype": "text/x-python",
   "name": "python",
   "nbconvert_exporter": "python",
   "pygments_lexer": "ipython3",
   "version": "3.5.2"
  }
 },
 "nbformat": 4,
 "nbformat_minor": 0
}
