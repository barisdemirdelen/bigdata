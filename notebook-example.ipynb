{
 "cells": [
  {
   "cell_type": "markdown",
   "metadata": {},
   "source": [
    "# Example"
   ]
  },
  {
   "cell_type": "markdown",
   "metadata": {},
   "source": [
    "Below I give a simple example to get you started with Pandas."
   ]
  },
  {
   "cell_type": "code",
   "execution_count": 1,
   "metadata": {
    "collapsed": true
   },
   "outputs": [],
   "source": [
    "# import convention for pandas\n",
    "import pandas as pd\n",
    "\n",
    "# read in your data\n",
    "df = pd.read_csv('/../../wifi-prepped-data.csv')\n",
    "\n",
    "# execute the cell you're in by pressing Shift + Enter"
   ]
  },
  {
   "cell_type": "code",
   "execution_count": 2,
   "metadata": {
    "collapsed": false
   },
   "outputs": [
    {
     "data": {
      "text/html": [
       "<div>\n",
       "<table border=\"1\" class=\"dataframe\">\n",
       "  <thead>\n",
       "    <tr style=\"text-align: right;\">\n",
       "      <th></th>\n",
       "      <th>sourceMac</th>\n",
       "      <th>typeNr</th>\n",
       "      <th>subTypeNr</th>\n",
       "      <th>seqNr</th>\n",
       "      <th>retryFlag</th>\n",
       "      <th>measurementTimestamp</th>\n",
       "      <th>droneId</th>\n",
       "      <th>signal</th>\n",
       "    </tr>\n",
       "  </thead>\n",
       "  <tbody>\n",
       "    <tr>\n",
       "      <th>0</th>\n",
       "      <td>3c560f25491f3902870e392f58973155c284fa24a736ef...</td>\n",
       "      <td>0</td>\n",
       "      <td>4</td>\n",
       "      <td>12</td>\n",
       "      <td>0</td>\n",
       "      <td>1423136407778</td>\n",
       "      <td>Oscar</td>\n",
       "      <td>-57</td>\n",
       "    </tr>\n",
       "    <tr>\n",
       "      <th>1</th>\n",
       "      <td>3c560f25491f3902870e392f58973155c284fa24a736ef...</td>\n",
       "      <td>0</td>\n",
       "      <td>4</td>\n",
       "      <td>12</td>\n",
       "      <td>0</td>\n",
       "      <td>1423136407779</td>\n",
       "      <td>Hotel</td>\n",
       "      <td>-68</td>\n",
       "    </tr>\n",
       "    <tr>\n",
       "      <th>2</th>\n",
       "      <td>3c560f25491f3902870e392f58973155c284fa24a736ef...</td>\n",
       "      <td>0</td>\n",
       "      <td>4</td>\n",
       "      <td>12</td>\n",
       "      <td>0</td>\n",
       "      <td>1423136407784</td>\n",
       "      <td>Papa</td>\n",
       "      <td>-60</td>\n",
       "    </tr>\n",
       "    <tr>\n",
       "      <th>3</th>\n",
       "      <td>3c560f25491f3902870e392f58973155c284fa24a736ef...</td>\n",
       "      <td>0</td>\n",
       "      <td>4</td>\n",
       "      <td>268</td>\n",
       "      <td>0</td>\n",
       "      <td>1423136407788</td>\n",
       "      <td>Oscar</td>\n",
       "      <td>-59</td>\n",
       "    </tr>\n",
       "    <tr>\n",
       "      <th>4</th>\n",
       "      <td>3c560f25491f3902870e392f58973155c284fa24a736ef...</td>\n",
       "      <td>0</td>\n",
       "      <td>4</td>\n",
       "      <td>12</td>\n",
       "      <td>0</td>\n",
       "      <td>1423136407788</td>\n",
       "      <td>November</td>\n",
       "      <td>-68</td>\n",
       "    </tr>\n",
       "  </tbody>\n",
       "</table>\n",
       "</div>"
      ],
      "text/plain": [
       "                                           sourceMac  typeNr  subTypeNr  \\\n",
       "0  3c560f25491f3902870e392f58973155c284fa24a736ef...       0          4   \n",
       "1  3c560f25491f3902870e392f58973155c284fa24a736ef...       0          4   \n",
       "2  3c560f25491f3902870e392f58973155c284fa24a736ef...       0          4   \n",
       "3  3c560f25491f3902870e392f58973155c284fa24a736ef...       0          4   \n",
       "4  3c560f25491f3902870e392f58973155c284fa24a736ef...       0          4   \n",
       "\n",
       "   seqNr  retryFlag  measurementTimestamp   droneId  signal  \n",
       "0     12          0         1423136407778     Oscar     -57  \n",
       "1     12          0         1423136407779     Hotel     -68  \n",
       "2     12          0         1423136407784      Papa     -60  \n",
       "3    268          0         1423136407788     Oscar     -59  \n",
       "4     12          0         1423136407788  November     -68  "
      ]
     },
     "execution_count": 2,
     "metadata": {},
     "output_type": "execute_result"
    }
   ],
   "source": [
    "# show first 5 rows of the DataFrame\n",
    "df.head()"
   ]
  },
  {
   "cell_type": "code",
   "execution_count": 3,
   "metadata": {
    "collapsed": false
   },
   "outputs": [
    {
     "name": "stdout",
     "output_type": "stream",
     "text": [
      "Alpha 48\n",
      "Hotel 43\n",
      "India 26\n",
      "Kilo 18\n",
      "Lima 22\n",
      "Mike 16\n",
      "November 62\n",
      "Oscar 23\n",
      "Papa 13\n",
      "Quebec 16\n",
      "Romeo 24\n"
     ]
    }
   ],
   "source": [
    "# a very useful pandas facility, to group a DataFrame using one (or more) index values as keys\n",
    "groups = df.groupby(by=['droneId'])\n",
    "\n",
    "# the 'groups' variable is just another object\n",
    "# it produces a sequence of group names together with a chunk of data (the group) \n",
    "# we can iterate over it, and do something with it\n",
    "\n",
    "for keys, group in groups:\n",
    "    # print the group name, and the length of the group\n",
    "    print(keys, len(group))"
   ]
  },
  {
   "cell_type": "code",
   "execution_count": null,
   "metadata": {
    "collapsed": true
   },
   "outputs": [],
   "source": [
    ""
   ]
  }
 ],
 "metadata": {
  "kernelspec": {
   "display_name": "Python 3",
   "language": "python",
   "name": "python3"
  },
  "language_info": {
   "codemirror_mode": {
    "name": "ipython",
    "version": 3.0
   },
   "file_extension": ".py",
   "mimetype": "text/x-python",
   "name": "python",
   "nbconvert_exporter": "python",
   "pygments_lexer": "ipython3",
   "version": "3.5.1"
  }
 },
 "nbformat": 4,
 "nbformat_minor": 0
}